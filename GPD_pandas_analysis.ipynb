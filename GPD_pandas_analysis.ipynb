{
 "cells": [
  {
   "cell_type": "markdown",
   "id": "motivated-olympus",
   "metadata": {},
   "source": [
    "# Final project\n",
    "\n",
    "Welcome to the final project of the Pandas course/module.\n",
    "In this project, you must answer a set of questions posed to two sets of data:\n",
    "\n",
    "1. [Obesity among adults by country, 1975-2016](https://www.kaggle.com/amanarora/obesity-among-adults-by-country-19752016/)\n",
    "2. [GDP Per Person (1901-2011)](https://www.kaggle.com/divyansh22/gdp-per-person-19012011?select=GDP.csv)\n",
    "\n",
    "These public datasets have been published on Kaggle. More instructions on each of them can be found at the links above. You will also find them in the `Datasets` folder within our handouts."
   ]
  },
  {
   "cell_type": "code",
   "execution_count": 1,
   "id": "million-survival",
   "metadata": {},
   "outputs": [],
   "source": [
    "import pandas as pd\n",
    "import numpy as np"
   ]
  },
  {
   "cell_type": "markdown",
   "id": "becoming-princeton",
   "metadata": {},
   "source": [
    "## Questions - Obesity among adults by country, 1975-2016"
   ]
  },
  {
   "cell_type": "code",
   "execution_count": 2,
   "id": "formal-heater",
   "metadata": {},
   "outputs": [
    {
     "name": "stdout",
     "output_type": "stream",
     "text": [
      "<class 'pandas.core.frame.DataFrame'>\n",
      "RangeIndex: 24570 entries, 0 to 24569\n",
      "Data columns (total 4 columns):\n",
      " #   Column       Non-Null Count  Dtype \n",
      "---  ------       --------------  ----- \n",
      " 0   Country      24570 non-null  object\n",
      " 1   Year         24570 non-null  int64 \n",
      " 2   Obesity (%)  24570 non-null  object\n",
      " 3   Sex          24570 non-null  object\n",
      "dtypes: int64(1), object(3)\n",
      "memory usage: 767.9+ KB\n"
     ]
    }
   ],
   "source": [
    "df_obesity = pd.read_csv(\"Datasets/obesity_cleaned.csv\")\n",
    "df_obesity = df_obesity[['Country','Year','Obesity (%)','Sex']] #Aqui eu poderia usar o método .drop() e passar o nome da coluna dentro do parâmetro\n",
    "# Poderia também usar o método del porém o método del só permite remover uma coluna (PERMANENTEMENTE)\n",
    "# Resumo: DROP permite remover mais de uma coluna e permite determinar se vai ser permanente ou não usando INPLACE / DEL remove uma coluna de forma permanente\n",
    "df_obesity.info()"
   ]
  },
  {
   "cell_type": "code",
   "execution_count": 3,
   "id": "8843cb45",
   "metadata": {},
   "outputs": [
    {
     "data": {
      "text/html": [
       "<div>\n",
       "<style scoped>\n",
       "    .dataframe tbody tr th:only-of-type {\n",
       "        vertical-align: middle;\n",
       "    }\n",
       "\n",
       "    .dataframe tbody tr th {\n",
       "        vertical-align: top;\n",
       "    }\n",
       "\n",
       "    .dataframe thead th {\n",
       "        text-align: right;\n",
       "    }\n",
       "</style>\n",
       "<table border=\"1\" class=\"dataframe\">\n",
       "  <thead>\n",
       "    <tr style=\"text-align: right;\">\n",
       "      <th></th>\n",
       "      <th>Country</th>\n",
       "      <th>Year</th>\n",
       "      <th>Obesity (%)</th>\n",
       "      <th>Sex</th>\n",
       "    </tr>\n",
       "  </thead>\n",
       "  <tbody>\n",
       "    <tr>\n",
       "      <th>0</th>\n",
       "      <td>Afghanistan</td>\n",
       "      <td>1975</td>\n",
       "      <td>0.5 [0.2-1.1]</td>\n",
       "      <td>Both sexes</td>\n",
       "    </tr>\n",
       "    <tr>\n",
       "      <th>1</th>\n",
       "      <td>Afghanistan</td>\n",
       "      <td>1975</td>\n",
       "      <td>0.2 [0.0-0.6]</td>\n",
       "      <td>Male</td>\n",
       "    </tr>\n",
       "    <tr>\n",
       "      <th>2</th>\n",
       "      <td>Afghanistan</td>\n",
       "      <td>1975</td>\n",
       "      <td>0.8 [0.2-2.0]</td>\n",
       "      <td>Female</td>\n",
       "    </tr>\n",
       "    <tr>\n",
       "      <th>3</th>\n",
       "      <td>Afghanistan</td>\n",
       "      <td>1976</td>\n",
       "      <td>0.5 [0.2-1.1]</td>\n",
       "      <td>Both sexes</td>\n",
       "    </tr>\n",
       "    <tr>\n",
       "      <th>4</th>\n",
       "      <td>Afghanistan</td>\n",
       "      <td>1976</td>\n",
       "      <td>0.2 [0.0-0.7]</td>\n",
       "      <td>Male</td>\n",
       "    </tr>\n",
       "    <tr>\n",
       "      <th>...</th>\n",
       "      <td>...</td>\n",
       "      <td>...</td>\n",
       "      <td>...</td>\n",
       "      <td>...</td>\n",
       "    </tr>\n",
       "    <tr>\n",
       "      <th>24565</th>\n",
       "      <td>Zimbabwe</td>\n",
       "      <td>2015</td>\n",
       "      <td>4.5 [2.4-7.6]</td>\n",
       "      <td>Male</td>\n",
       "    </tr>\n",
       "    <tr>\n",
       "      <th>24566</th>\n",
       "      <td>Zimbabwe</td>\n",
       "      <td>2015</td>\n",
       "      <td>24.8 [18.9-31.3]</td>\n",
       "      <td>Female</td>\n",
       "    </tr>\n",
       "    <tr>\n",
       "      <th>24567</th>\n",
       "      <td>Zimbabwe</td>\n",
       "      <td>2016</td>\n",
       "      <td>15.5 [12.0-19.2]</td>\n",
       "      <td>Both sexes</td>\n",
       "    </tr>\n",
       "    <tr>\n",
       "      <th>24568</th>\n",
       "      <td>Zimbabwe</td>\n",
       "      <td>2016</td>\n",
       "      <td>4.7 [2.5-8.0]</td>\n",
       "      <td>Male</td>\n",
       "    </tr>\n",
       "    <tr>\n",
       "      <th>24569</th>\n",
       "      <td>Zimbabwe</td>\n",
       "      <td>2016</td>\n",
       "      <td>25.3 [19.1-32.0]</td>\n",
       "      <td>Female</td>\n",
       "    </tr>\n",
       "  </tbody>\n",
       "</table>\n",
       "<p>24570 rows × 4 columns</p>\n",
       "</div>"
      ],
      "text/plain": [
       "           Country  Year       Obesity (%)         Sex\n",
       "0      Afghanistan  1975     0.5 [0.2-1.1]  Both sexes\n",
       "1      Afghanistan  1975     0.2 [0.0-0.6]        Male\n",
       "2      Afghanistan  1975     0.8 [0.2-2.0]      Female\n",
       "3      Afghanistan  1976     0.5 [0.2-1.1]  Both sexes\n",
       "4      Afghanistan  1976     0.2 [0.0-0.7]        Male\n",
       "...            ...   ...               ...         ...\n",
       "24565     Zimbabwe  2015     4.5 [2.4-7.6]        Male\n",
       "24566     Zimbabwe  2015  24.8 [18.9-31.3]      Female\n",
       "24567     Zimbabwe  2016  15.5 [12.0-19.2]  Both sexes\n",
       "24568     Zimbabwe  2016     4.7 [2.5-8.0]        Male\n",
       "24569     Zimbabwe  2016  25.3 [19.1-32.0]      Female\n",
       "\n",
       "[24570 rows x 4 columns]"
      ]
     },
     "metadata": {},
     "output_type": "display_data"
    }
   ],
   "source": [
    "display(df_obesity)"
   ]
  },
  {
   "cell_type": "markdown",
   "id": "divine-rebel",
   "metadata": {},
   "source": [
    "- Clear the data from the DataFrame, creating a column called 'Obesity' which will contain the obesity values. Turn any columns that were imported as strings into floats."
   ]
  },
  {
   "cell_type": "code",
   "execution_count": 4,
   "id": "cubic-minneapolis",
   "metadata": {},
   "outputs": [
    {
     "name": "stdout",
     "output_type": "stream",
     "text": [
      "<class 'pandas.core.frame.DataFrame'>\n",
      "RangeIndex: 24570 entries, 0 to 24569\n",
      "Data columns (total 4 columns):\n",
      " #   Column   Non-Null Count  Dtype  \n",
      "---  ------   --------------  -----  \n",
      " 0   Country  24570 non-null  object \n",
      " 1   Year     24570 non-null  int64  \n",
      " 2   Sex      24570 non-null  object \n",
      " 3   Obesity  24066 non-null  float64\n",
      "dtypes: float64(1), int64(1), object(2)\n",
      "memory usage: 767.9+ KB\n"
     ]
    }
   ],
   "source": [
    "df_obesity['Obesity'] = pd.to_numeric(df_obesity['Obesity (%)'].str.strip().str[:3], errors='coerce')\n",
    "#str.strip() = Remove espaço em branco\n",
    "#errors='coerce' = Converte valores inválidos para NaN\n",
    "del df_obesity['Obesity (%)']\n",
    "df_obesity.info()"
   ]
  },
  {
   "cell_type": "markdown",
   "id": "voluntary-temperature",
   "metadata": {},
   "source": [
    "- What was the average percentage of obesity by sex in the world in 2015?"
   ]
  },
  {
   "cell_type": "code",
   "execution_count": 5,
   "id": "afraid-reminder",
   "metadata": {},
   "outputs": [
    {
     "data": {
      "text/plain": [
       "Sex\n",
       "Both sexes    19.185864\n",
       "Female        22.518848\n",
       "Male          15.674346\n",
       "Name: Obesity, dtype: float64"
      ]
     },
     "execution_count": 5,
     "metadata": {},
     "output_type": "execute_result"
    }
   ],
   "source": [
    "df_obesity_2015 = df_obesity[df_obesity['Year'] == 2015]\n",
    "df_obesity_gender = df_obesity_2015.groupby('Sex')['Obesity'].mean()\n",
    "#Apesar de estar correto, poderia ser feito tudo em uma única linha passando primeiramente o filtro (df_obesity[df_obesity['Year'] == 2015]) e depois agrupando por sexo e gerando a média (groupby('Sex')['Obesity'].mean())\n",
    "#O código final ficaria assim: df_obesity[df_obesity['Year'] == 2015].groupby('Sex')['Obesity'].mean()\n",
    "df_obesity_gender"
   ]
  },
  {
   "cell_type": "markdown",
   "id": "expected-kruger",
   "metadata": {},
   "source": [
    "- Which are the 5 countries with the highest and lowest rate of increase in obesity rates over the observed period?"
   ]
  },
  {
   "cell_type": "code",
   "execution_count": 6,
   "id": "phantom-going",
   "metadata": {},
   "outputs": [
    {
     "data": {
      "text/html": [
       "<div>\n",
       "<style scoped>\n",
       "    .dataframe tbody tr th:only-of-type {\n",
       "        vertical-align: middle;\n",
       "    }\n",
       "\n",
       "    .dataframe tbody tr th {\n",
       "        vertical-align: top;\n",
       "    }\n",
       "\n",
       "    .dataframe thead th {\n",
       "        text-align: right;\n",
       "    }\n",
       "</style>\n",
       "<table border=\"1\" class=\"dataframe\">\n",
       "  <thead>\n",
       "    <tr style=\"text-align: right;\">\n",
       "      <th></th>\n",
       "      <th>Country</th>\n",
       "      <th>Year</th>\n",
       "      <th>Sex</th>\n",
       "      <th>Obesity</th>\n",
       "    </tr>\n",
       "  </thead>\n",
       "  <tbody>\n",
       "    <tr>\n",
       "      <th>0</th>\n",
       "      <td>Afghanistan</td>\n",
       "      <td>1975</td>\n",
       "      <td>Both sexes</td>\n",
       "      <td>0.5</td>\n",
       "    </tr>\n",
       "    <tr>\n",
       "      <th>1</th>\n",
       "      <td>Afghanistan</td>\n",
       "      <td>1975</td>\n",
       "      <td>Male</td>\n",
       "      <td>0.2</td>\n",
       "    </tr>\n",
       "    <tr>\n",
       "      <th>2</th>\n",
       "      <td>Afghanistan</td>\n",
       "      <td>1975</td>\n",
       "      <td>Female</td>\n",
       "      <td>0.8</td>\n",
       "    </tr>\n",
       "    <tr>\n",
       "      <th>3</th>\n",
       "      <td>Afghanistan</td>\n",
       "      <td>1976</td>\n",
       "      <td>Both sexes</td>\n",
       "      <td>0.5</td>\n",
       "    </tr>\n",
       "    <tr>\n",
       "      <th>4</th>\n",
       "      <td>Afghanistan</td>\n",
       "      <td>1976</td>\n",
       "      <td>Male</td>\n",
       "      <td>0.2</td>\n",
       "    </tr>\n",
       "    <tr>\n",
       "      <th>...</th>\n",
       "      <td>...</td>\n",
       "      <td>...</td>\n",
       "      <td>...</td>\n",
       "      <td>...</td>\n",
       "    </tr>\n",
       "    <tr>\n",
       "      <th>24565</th>\n",
       "      <td>Zimbabwe</td>\n",
       "      <td>2015</td>\n",
       "      <td>Male</td>\n",
       "      <td>4.5</td>\n",
       "    </tr>\n",
       "    <tr>\n",
       "      <th>24566</th>\n",
       "      <td>Zimbabwe</td>\n",
       "      <td>2015</td>\n",
       "      <td>Female</td>\n",
       "      <td>24.0</td>\n",
       "    </tr>\n",
       "    <tr>\n",
       "      <th>24567</th>\n",
       "      <td>Zimbabwe</td>\n",
       "      <td>2016</td>\n",
       "      <td>Both sexes</td>\n",
       "      <td>15.0</td>\n",
       "    </tr>\n",
       "    <tr>\n",
       "      <th>24568</th>\n",
       "      <td>Zimbabwe</td>\n",
       "      <td>2016</td>\n",
       "      <td>Male</td>\n",
       "      <td>4.7</td>\n",
       "    </tr>\n",
       "    <tr>\n",
       "      <th>24569</th>\n",
       "      <td>Zimbabwe</td>\n",
       "      <td>2016</td>\n",
       "      <td>Female</td>\n",
       "      <td>25.0</td>\n",
       "    </tr>\n",
       "  </tbody>\n",
       "</table>\n",
       "<p>24570 rows × 4 columns</p>\n",
       "</div>"
      ],
      "text/plain": [
       "           Country  Year         Sex  Obesity\n",
       "0      Afghanistan  1975  Both sexes      0.5\n",
       "1      Afghanistan  1975        Male      0.2\n",
       "2      Afghanistan  1975      Female      0.8\n",
       "3      Afghanistan  1976  Both sexes      0.5\n",
       "4      Afghanistan  1976        Male      0.2\n",
       "...            ...   ...         ...      ...\n",
       "24565     Zimbabwe  2015        Male      4.5\n",
       "24566     Zimbabwe  2015      Female     24.0\n",
       "24567     Zimbabwe  2016  Both sexes     15.0\n",
       "24568     Zimbabwe  2016        Male      4.7\n",
       "24569     Zimbabwe  2016      Female     25.0\n",
       "\n",
       "[24570 rows x 4 columns]"
      ]
     },
     "metadata": {},
     "output_type": "display_data"
    }
   ],
   "source": [
    "display(df_obesity)"
   ]
  },
  {
   "cell_type": "code",
   "execution_count": 7,
   "id": "efea1ab2",
   "metadata": {},
   "outputs": [],
   "source": [
    "df_obesity_start = df_obesity[df_obesity['Year']== 1975] #Criando dataframe com resultados de 1975\n",
    "df_obesity_start.set_index('Country',inplace=True) #Definindo como index do dataframe a coluna 'Country'\n",
    "\n",
    "df_obesity_end = df_obesity[df_obesity['Year']== 2016] #Criando dataframe com resultados de 2016\n",
    "df_obesity_end.set_index('Country',inplace=True) #Definindo como index do dataframe a coluna 'Country'\n",
    "\n",
    "df_obesity_ev = df_obesity_end[df_obesity_end['Sex'] == 'Both sexes']['Obesity'] - df_obesity_start[df_obesity_start['Sex'] == 'Both sexes']['Obesity'] # Como o resultado já está em percentual o cálculo foi realizado para entender a evolução em pontos percentuais"
   ]
  },
  {
   "cell_type": "code",
   "execution_count": 8,
   "id": "65e8dc76",
   "metadata": {},
   "outputs": [
    {
     "data": {
      "text/plain": [
       "Country\n",
       "Viet Nam       2.0\n",
       "Singapore      3.1\n",
       "Japan          3.3\n",
       "Bangladesh     3.4\n",
       "Timor-Leste    3.6\n",
       "Name: Obesity, dtype: float64"
      ]
     },
     "execution_count": 8,
     "metadata": {},
     "output_type": "execute_result"
    }
   ],
   "source": [
    "# top 5 países com menor evolução\n",
    "df_obesity_ev.sort_values().dropna().head(5)"
   ]
  },
  {
   "cell_type": "code",
   "execution_count": 9,
   "id": "b4eed49f",
   "metadata": {},
   "outputs": [
    {
     "data": {
      "text/plain": [
       "Country\n",
       "Micronesia (Federated States of)    27.0\n",
       "Tonga                               29.0\n",
       "Kiribati                            31.0\n",
       "Niue                                32.0\n",
       "Tuvalu                              34.0\n",
       "Name: Obesity, dtype: float64"
      ]
     },
     "execution_count": 9,
     "metadata": {},
     "output_type": "execute_result"
    }
   ],
   "source": [
    "# top 5 países com maio evolução\n",
    "df_obesity_ev.sort_values().dropna().tail(5)"
   ]
  },
  {
   "cell_type": "markdown",
   "id": "efficient-buyer",
   "metadata": {},
   "source": [
    "- Which countries had the highest and lowest levels of obesity in 2015?"
   ]
  },
  {
   "cell_type": "code",
   "execution_count": 10,
   "id": "violent-warren",
   "metadata": {},
   "outputs": [
    {
     "data": {
      "text/html": [
       "<div>\n",
       "<style scoped>\n",
       "    .dataframe tbody tr th:only-of-type {\n",
       "        vertical-align: middle;\n",
       "    }\n",
       "\n",
       "    .dataframe tbody tr th {\n",
       "        vertical-align: top;\n",
       "    }\n",
       "\n",
       "    .dataframe thead th {\n",
       "        text-align: right;\n",
       "    }\n",
       "</style>\n",
       "<table border=\"1\" class=\"dataframe\">\n",
       "  <thead>\n",
       "    <tr style=\"text-align: right;\">\n",
       "      <th></th>\n",
       "      <th>Country</th>\n",
       "      <th>Year</th>\n",
       "      <th>Sex</th>\n",
       "      <th>Obesity</th>\n",
       "    </tr>\n",
       "  </thead>\n",
       "  <tbody>\n",
       "    <tr>\n",
       "      <th>15116</th>\n",
       "      <td>Nauru</td>\n",
       "      <td>2015</td>\n",
       "      <td>Female</td>\n",
       "      <td>63.0</td>\n",
       "    </tr>\n",
       "  </tbody>\n",
       "</table>\n",
       "</div>"
      ],
      "text/plain": [
       "      Country  Year     Sex  Obesity\n",
       "15116   Nauru  2015  Female     63.0"
      ]
     },
     "execution_count": 10,
     "metadata": {},
     "output_type": "execute_result"
    }
   ],
   "source": [
    "df_obesity_2015[df_obesity_2015['Obesity']==df_obesity_2015['Obesity'].max()]"
   ]
  },
  {
   "cell_type": "code",
   "execution_count": 11,
   "id": "c873bec2",
   "metadata": {},
   "outputs": [
    {
     "data": {
      "text/html": [
       "<div>\n",
       "<style scoped>\n",
       "    .dataframe tbody tr th:only-of-type {\n",
       "        vertical-align: middle;\n",
       "    }\n",
       "\n",
       "    .dataframe tbody tr th {\n",
       "        vertical-align: top;\n",
       "    }\n",
       "\n",
       "    .dataframe thead th {\n",
       "        text-align: right;\n",
       "    }\n",
       "</style>\n",
       "<table border=\"1\" class=\"dataframe\">\n",
       "  <thead>\n",
       "    <tr style=\"text-align: right;\">\n",
       "      <th></th>\n",
       "      <th>Country</th>\n",
       "      <th>Year</th>\n",
       "      <th>Sex</th>\n",
       "      <th>Obesity</th>\n",
       "    </tr>\n",
       "  </thead>\n",
       "  <tbody>\n",
       "    <tr>\n",
       "      <th>24187</th>\n",
       "      <td>Viet Nam</td>\n",
       "      <td>2015</td>\n",
       "      <td>Male</td>\n",
       "      <td>1.5</td>\n",
       "    </tr>\n",
       "  </tbody>\n",
       "</table>\n",
       "</div>"
      ],
      "text/plain": [
       "        Country  Year   Sex  Obesity\n",
       "24187  Viet Nam  2015  Male      1.5"
      ]
     },
     "execution_count": 11,
     "metadata": {},
     "output_type": "execute_result"
    }
   ],
   "source": [
    "df_obesity_2015[df_obesity_2015['Obesity']==df_obesity_2015['Obesity'].min()]"
   ]
  },
  {
   "cell_type": "markdown",
   "id": "average-holiday",
   "metadata": {},
   "source": [
    "- What is the average percentage difference in obesity between the sexes over the years in Brazil?"
   ]
  },
  {
   "cell_type": "code",
   "execution_count": 12,
   "id": "later-occurrence",
   "metadata": {},
   "outputs": [],
   "source": [
    "df_Brasil = df_obesity[df_obesity['Country']== \"Brazil\"]\n"
   ]
  },
  {
   "cell_type": "code",
   "execution_count": 13,
   "id": "83f6f847",
   "metadata": {},
   "outputs": [
    {
     "data": {
      "text/plain": [
       "2899   NaN\n",
       "2900   NaN\n",
       "2902   NaN\n",
       "2903   NaN\n",
       "2905   NaN\n",
       "        ..\n",
       "3017   NaN\n",
       "3019   NaN\n",
       "3020   NaN\n",
       "3022   NaN\n",
       "3023   NaN\n",
       "Name: Obesity, Length: 84, dtype: float64"
      ]
     },
     "execution_count": 13,
     "metadata": {},
     "output_type": "execute_result"
    }
   ],
   "source": [
    "df_Brasil[df_Brasil['Sex']=='Female']['Obesity'] - df_Brasil[df_Brasil['Sex']=='Male']['Obesity']"
   ]
  },
  {
   "cell_type": "markdown",
   "id": "rising-exhaust",
   "metadata": {},
   "source": [
    "- Could you plot a graph showing the evolution of obesity for both sexes in the world?"
   ]
  },
  {
   "cell_type": "code",
   "execution_count": null,
   "id": "senior-recruitment",
   "metadata": {},
   "outputs": [],
   "source": []
  },
  {
   "cell_type": "markdown",
   "id": "labeled-rainbow",
   "metadata": {},
   "source": [
    "## Questions - GDP Per Person (1901-2011)"
   ]
  },
  {
   "cell_type": "code",
   "execution_count": 14,
   "id": "thermal-breeding",
   "metadata": {},
   "outputs": [
    {
     "data": {
      "text/html": [
       "<div>\n",
       "<style scoped>\n",
       "    .dataframe tbody tr th:only-of-type {\n",
       "        vertical-align: middle;\n",
       "    }\n",
       "\n",
       "    .dataframe tbody tr th {\n",
       "        vertical-align: top;\n",
       "    }\n",
       "\n",
       "    .dataframe thead th {\n",
       "        text-align: right;\n",
       "    }\n",
       "</style>\n",
       "<table border=\"1\" class=\"dataframe\">\n",
       "  <thead>\n",
       "    <tr style=\"text-align: right;\">\n",
       "      <th></th>\n",
       "      <th>Country</th>\n",
       "      <th>Region</th>\n",
       "      <th>Year</th>\n",
       "      <th>GDP_pp</th>\n",
       "    </tr>\n",
       "  </thead>\n",
       "  <tbody>\n",
       "    <tr>\n",
       "      <th>0</th>\n",
       "      <td>Afghanistan</td>\n",
       "      <td>Middle East, North Africa, and Greater Arabia</td>\n",
       "      <td>1/1/1901</td>\n",
       "      <td>613.99</td>\n",
       "    </tr>\n",
       "    <tr>\n",
       "      <th>1</th>\n",
       "      <td>Afghanistan</td>\n",
       "      <td>Middle East, North Africa, and Greater Arabia</td>\n",
       "      <td>1/1/1906</td>\n",
       "      <td>624.04</td>\n",
       "    </tr>\n",
       "    <tr>\n",
       "      <th>2</th>\n",
       "      <td>Afghanistan</td>\n",
       "      <td>Middle East, North Africa, and Greater Arabia</td>\n",
       "      <td>1/1/1911</td>\n",
       "      <td>634.25</td>\n",
       "    </tr>\n",
       "    <tr>\n",
       "      <th>3</th>\n",
       "      <td>Afghanistan</td>\n",
       "      <td>Middle East, North Africa, and Greater Arabia</td>\n",
       "      <td>1/1/1916</td>\n",
       "      <td>647.28</td>\n",
       "    </tr>\n",
       "    <tr>\n",
       "      <th>4</th>\n",
       "      <td>Afghanistan</td>\n",
       "      <td>Middle East, North Africa, and Greater Arabia</td>\n",
       "      <td>1/1/1921</td>\n",
       "      <td>662.40</td>\n",
       "    </tr>\n",
       "    <tr>\n",
       "      <th>...</th>\n",
       "      <td>...</td>\n",
       "      <td>...</td>\n",
       "      <td>...</td>\n",
       "      <td>...</td>\n",
       "    </tr>\n",
       "    <tr>\n",
       "      <th>4414</th>\n",
       "      <td>Zimbabwe</td>\n",
       "      <td>Sub-Saharan Africa</td>\n",
       "      <td>1/1/1991</td>\n",
       "      <td>782.09</td>\n",
       "    </tr>\n",
       "    <tr>\n",
       "      <th>4415</th>\n",
       "      <td>Zimbabwe</td>\n",
       "      <td>Sub-Saharan Africa</td>\n",
       "      <td>1/1/1996</td>\n",
       "      <td>781.50</td>\n",
       "    </tr>\n",
       "    <tr>\n",
       "      <th>4416</th>\n",
       "      <td>Zimbabwe</td>\n",
       "      <td>Sub-Saharan Africa</td>\n",
       "      <td>1/1/2001</td>\n",
       "      <td>719.96</td>\n",
       "    </tr>\n",
       "    <tr>\n",
       "      <th>4417</th>\n",
       "      <td>Zimbabwe</td>\n",
       "      <td>Sub-Saharan Africa</td>\n",
       "      <td>1/1/2006</td>\n",
       "      <td>520.17</td>\n",
       "    </tr>\n",
       "    <tr>\n",
       "      <th>4418</th>\n",
       "      <td>Zimbabwe</td>\n",
       "      <td>Sub-Saharan Africa</td>\n",
       "      <td>1/1/2011</td>\n",
       "      <td>526.33</td>\n",
       "    </tr>\n",
       "  </tbody>\n",
       "</table>\n",
       "<p>4419 rows × 4 columns</p>\n",
       "</div>"
      ],
      "text/plain": [
       "          Country                                         Region      Year  \\\n",
       "0     Afghanistan  Middle East, North Africa, and Greater Arabia  1/1/1901   \n",
       "1     Afghanistan  Middle East, North Africa, and Greater Arabia  1/1/1906   \n",
       "2     Afghanistan  Middle East, North Africa, and Greater Arabia  1/1/1911   \n",
       "3     Afghanistan  Middle East, North Africa, and Greater Arabia  1/1/1916   \n",
       "4     Afghanistan  Middle East, North Africa, and Greater Arabia  1/1/1921   \n",
       "...           ...                                            ...       ...   \n",
       "4414     Zimbabwe                             Sub-Saharan Africa  1/1/1991   \n",
       "4415     Zimbabwe                             Sub-Saharan Africa  1/1/1996   \n",
       "4416     Zimbabwe                             Sub-Saharan Africa  1/1/2001   \n",
       "4417     Zimbabwe                             Sub-Saharan Africa  1/1/2006   \n",
       "4418     Zimbabwe                             Sub-Saharan Africa  1/1/2011   \n",
       "\n",
       "       GDP_pp   \n",
       "0      613.99   \n",
       "1      624.04   \n",
       "2      634.25   \n",
       "3      647.28   \n",
       "4      662.40   \n",
       "...        ...  \n",
       "4414   782.09   \n",
       "4415   781.50   \n",
       "4416   719.96   \n",
       "4417   520.17   \n",
       "4418   526.33   \n",
       "\n",
       "[4419 rows x 4 columns]"
      ]
     },
     "metadata": {},
     "output_type": "display_data"
    }
   ],
   "source": [
    "df_gdp = pd.read_csv(\"Datasets/GDP.csv\", decimal=\".\")\n",
    "display(df_gdp)"
   ]
  },
  {
   "cell_type": "markdown",
   "id": "suffering-guitar",
   "metadata": {},
   "source": [
    "- Clean up the dataset, converting strings into dates or floats where necessary."
   ]
  },
  {
   "cell_type": "code",
   "execution_count": 15,
   "id": "0832850d",
   "metadata": {},
   "outputs": [],
   "source": [
    "df_gdp['Year'] = df_gdp['Year'].apply(lambda x: int(x.split(\"/\")[-1]))"
   ]
  },
  {
   "cell_type": "code",
   "execution_count": 16,
   "id": "3f13414f",
   "metadata": {},
   "outputs": [],
   "source": [
    "df_gdp= df_gdp.rename(columns={' GDP_pp ': \"GDP_pp\"})\n",
    "df_gdp['GDP_pp'] = df_gdp['GDP_pp'].str.replace(',','').str.strip()\n",
    "#str.replace(',',''): leitura de float (xxxx.xx)> Como a Serie tinha valores onde a casa decimal estava sendo representada por \",\" foi necessário utilizar o método >>str.replace(',','')<< para remover\n",
    "#str.strip(): Alguns valores dentro da Serie possuia espaço no início/fim (Ex: \" 10 \") então foi utilizado o método >>str.strip()<< para remover\n",
    "df_gdp['GDP_pp'] = df_gdp['GDP_pp'].astype(float) #<< Convertendo a Serie de STRING para FLOAT\n",
    "\n"
   ]
  },
  {
   "cell_type": "code",
   "execution_count": 17,
   "id": "e7c4e8f4",
   "metadata": {},
   "outputs": [
    {
     "name": "stdout",
     "output_type": "stream",
     "text": [
      "Country     object\n",
      "Region      object\n",
      "Year         int64\n",
      "GDP_pp     float64\n",
      "dtype: object\n"
     ]
    }
   ],
   "source": [
    "print(df_gdp.dtypes)"
   ]
  },
  {
   "cell_type": "markdown",
   "id": "studied-validity",
   "metadata": {},
   "source": [
    "- Can you tell me the first value recorded for each country?"
   ]
  },
  {
   "cell_type": "code",
   "execution_count": 18,
   "id": "7dd8550f",
   "metadata": {},
   "outputs": [
    {
     "data": {
      "text/html": [
       "<div>\n",
       "<style scoped>\n",
       "    .dataframe tbody tr th:only-of-type {\n",
       "        vertical-align: middle;\n",
       "    }\n",
       "\n",
       "    .dataframe tbody tr th {\n",
       "        vertical-align: top;\n",
       "    }\n",
       "\n",
       "    .dataframe thead th {\n",
       "        text-align: right;\n",
       "    }\n",
       "</style>\n",
       "<table border=\"1\" class=\"dataframe\">\n",
       "  <thead>\n",
       "    <tr style=\"text-align: right;\">\n",
       "      <th></th>\n",
       "      <th>Country</th>\n",
       "      <th>Region</th>\n",
       "      <th>Year</th>\n",
       "      <th>GDP_pp</th>\n",
       "    </tr>\n",
       "  </thead>\n",
       "  <tbody>\n",
       "    <tr>\n",
       "      <th>0</th>\n",
       "      <td>Afghanistan</td>\n",
       "      <td>Middle East, North Africa, and Greater Arabia</td>\n",
       "      <td>1901</td>\n",
       "      <td>613.99</td>\n",
       "    </tr>\n",
       "    <tr>\n",
       "      <th>1</th>\n",
       "      <td>Albania</td>\n",
       "      <td>Europe</td>\n",
       "      <td>1901</td>\n",
       "      <td>1062.01</td>\n",
       "    </tr>\n",
       "    <tr>\n",
       "      <th>2</th>\n",
       "      <td>Algeria</td>\n",
       "      <td>Middle East, North Africa, and Greater Arabia</td>\n",
       "      <td>1901</td>\n",
       "      <td>1807.76</td>\n",
       "    </tr>\n",
       "    <tr>\n",
       "      <th>3</th>\n",
       "      <td>Andorra</td>\n",
       "      <td>Europe</td>\n",
       "      <td>1901</td>\n",
       "      <td>3352.50</td>\n",
       "    </tr>\n",
       "    <tr>\n",
       "      <th>4</th>\n",
       "      <td>Angola</td>\n",
       "      <td>Sub-Saharan Africa</td>\n",
       "      <td>1901</td>\n",
       "      <td>525.76</td>\n",
       "    </tr>\n",
       "    <tr>\n",
       "      <th>...</th>\n",
       "      <td>...</td>\n",
       "      <td>...</td>\n",
       "      <td>...</td>\n",
       "      <td>...</td>\n",
       "    </tr>\n",
       "    <tr>\n",
       "      <th>188</th>\n",
       "      <td>Venezuela</td>\n",
       "      <td>South America</td>\n",
       "      <td>1901</td>\n",
       "      <td>766.21</td>\n",
       "    </tr>\n",
       "    <tr>\n",
       "      <th>189</th>\n",
       "      <td>Vietnam</td>\n",
       "      <td>Asia</td>\n",
       "      <td>1901</td>\n",
       "      <td>572.96</td>\n",
       "    </tr>\n",
       "    <tr>\n",
       "      <th>190</th>\n",
       "      <td>Yemen, Rep.</td>\n",
       "      <td>Middle East, North Africa, and Greater Arabia</td>\n",
       "      <td>1901</td>\n",
       "      <td>729.39</td>\n",
       "    </tr>\n",
       "    <tr>\n",
       "      <th>191</th>\n",
       "      <td>Zambia</td>\n",
       "      <td>Sub-Saharan Africa</td>\n",
       "      <td>1901</td>\n",
       "      <td>532.38</td>\n",
       "    </tr>\n",
       "    <tr>\n",
       "      <th>192</th>\n",
       "      <td>Zimbabwe</td>\n",
       "      <td>Sub-Saharan Africa</td>\n",
       "      <td>1901</td>\n",
       "      <td>385.69</td>\n",
       "    </tr>\n",
       "  </tbody>\n",
       "</table>\n",
       "<p>193 rows × 4 columns</p>\n",
       "</div>"
      ],
      "text/plain": [
       "         Country                                         Region  Year   GDP_pp\n",
       "0    Afghanistan  Middle East, North Africa, and Greater Arabia  1901   613.99\n",
       "1        Albania                                         Europe  1901  1062.01\n",
       "2        Algeria  Middle East, North Africa, and Greater Arabia  1901  1807.76\n",
       "3        Andorra                                         Europe  1901  3352.50\n",
       "4         Angola                             Sub-Saharan Africa  1901   525.76\n",
       "..           ...                                            ...   ...      ...\n",
       "188    Venezuela                                  South America  1901   766.21\n",
       "189      Vietnam                                           Asia  1901   572.96\n",
       "190  Yemen, Rep.  Middle East, North Africa, and Greater Arabia  1901   729.39\n",
       "191       Zambia                             Sub-Saharan Africa  1901   532.38\n",
       "192     Zimbabwe                             Sub-Saharan Africa  1901   385.69\n",
       "\n",
       "[193 rows x 4 columns]"
      ]
     },
     "execution_count": 18,
     "metadata": {},
     "output_type": "execute_result"
    }
   ],
   "source": [
    "df_gdp_min = df_gdp.groupby('Country').first().reset_index()\n",
    "df_gdp_min"
   ]
  },
  {
   "cell_type": "markdown",
   "id": "tutorial-softball",
   "metadata": {},
   "source": [
    "- Name the regions with the highest growth in GDP per capita in the last century."
   ]
  },
  {
   "cell_type": "code",
   "execution_count": 19,
   "id": "given-colorado",
   "metadata": {},
   "outputs": [
    {
     "data": {
      "text/plain": [
       "Country              Zimbabwe\n",
       "Region     Sub-Saharan Africa\n",
       "Year                     1996\n",
       "GDP_pp               118681.3\n",
       "dtype: object"
      ]
     },
     "execution_count": 19,
     "metadata": {},
     "output_type": "execute_result"
    }
   ],
   "source": [
    "#verificando a menor e maior data \n",
    "df_gdp[df_gdp['Year']<2000].min()\n",
    "df_gdp[df_gdp['Year']<2000].max()"
   ]
  },
  {
   "cell_type": "code",
   "execution_count": 20,
   "id": "07e39960",
   "metadata": {},
   "outputs": [
    {
     "data": {
      "text/plain": [
       "Country     Kosovo\n",
       "Region      Europe\n",
       "Year          1991\n",
       "GDP_pp     2875.45\n",
       "dtype: object"
      ]
     },
     "execution_count": 20,
     "metadata": {},
     "output_type": "execute_result"
    }
   ],
   "source": [
    "#verificando a menor e maior data em Kosovo  \n",
    "df_gdp[(df_gdp['Country'] == 'Kosovo')&(df_gdp['Year']<2000)].min()\n",
    "df_gdp[(df_gdp['Country'] == 'Kosovo')&(df_gdp['Year']<2000)].min()"
   ]
  },
  {
   "cell_type": "code",
   "execution_count": 21,
   "id": "ee030920",
   "metadata": {},
   "outputs": [],
   "source": [
    "#Criando dataframe com o registro inicial\n",
    "df_gdp_start = df_gdp[df_gdp['Year'] == 1901]\n",
    "df_gdp_kosovo_start = df_gdp[(df_gdp['Country'] == 'Kosovo') & (df_gdp['Year']== 1991)] #O registro mais recente do País Kozovo aconteceu em 1991, por isso criei um dataframe específico pra ele\n",
    "\n",
    "df_gdp_start1 = pd.concat([df_gdp_start,df_gdp_kosovo_start], ignore_index=True) #Concatenando ambos os dataframes para ter os registros iniciais corretos de todos os países\n",
    "\n",
    "df_gdp_end = df_gdp[df_gdp['Year'] == 1996]\n",
    "\n",
    "\n"
   ]
  },
  {
   "cell_type": "code",
   "execution_count": 22,
   "id": "a8816932",
   "metadata": {},
   "outputs": [
    {
     "data": {
      "text/plain": [
       "Region\n",
       "Middle East, North Africa, and Greater Arabia    857.215950\n",
       "Asia                                             711.761516\n",
       "North America                                    589.760175\n",
       "Europe                                           578.022157\n",
       "Central America and the Caribbean                406.426789\n",
       "Australia and Oceania                            396.075383\n",
       "South America                                    312.123735\n",
       "Sub-Saharan Africa                               248.633780\n",
       "Name: GDP_pp, dtype: float64"
      ]
     },
     "execution_count": 22,
     "metadata": {},
     "output_type": "execute_result"
    }
   ],
   "source": [
    "df_region_growth = (((df_gdp_end.groupby('Region')['GDP_pp'].mean() - df_gdp_start1.groupby('Region')['GDP_pp'].mean()) / df_gdp_start1.groupby('Region')['GDP_pp'].mean())*100).sort_values(ascending= False)\n",
    "\n",
    "\n",
    "\n",
    "df_region_growth"
   ]
  },
  {
   "cell_type": "markdown",
   "id": "textile-afternoon",
   "metadata": {},
   "source": [
    "- Fill in the missing years in each country with an estimate, based on the difference between the next record and the previous one."
   ]
  },
  {
   "cell_type": "code",
   "execution_count": 23,
   "id": "hydraulic-confidentiality",
   "metadata": {},
   "outputs": [],
   "source": [
    "array_year = np.arange(df_gdp['Year'].min(),df_gdp['Year'].max()) #Definindo um array com todos os anos entre a primeira e última data existente\n",
    "df_all_years = pd.DataFrame(array_year, columns=['Year']) #Transformando o array em um dataframe\n",
    "df_all_years.index = df_all_years['Year'] #Transformando a coluna 'Year' em index\n",
    "\n",
    "df_years_off = ~df_all_years['Year'].isin(df_gdp['Year']) \n",
    "#Comparando os valores do dataframe de ano com o dataframe principal para identificar os anos existentes\n",
    "#Inicialmente o método isin() retorna como VERDADEIRO os valores comparados, porém foi adicionado o \"~\" no início do código para inverter o resultado\n",
    "#A inversão é necessária pois utilizaremos apenas os anos que não estão no dataframe principal\n",
    "df_years_off = df_years_off.loc[df_years_off].index\n"
   ]
  },
  {
   "cell_type": "code",
   "execution_count": 24,
   "id": "db0799b5",
   "metadata": {},
   "outputs": [],
   "source": [
    "df_gdp = df_gdp.sort_values(['Country','Year'])\n",
    "df_gdp['delta_gdp'] = df_gdp['GDP_pp'] - df_gdp['GDP_pp'].shift(1)\n",
    "df_gdp['delta_year'] = df_gdp['Year'] - df_gdp['Year'].shift(1)\n",
    "df_gdp['average_gdp'] = (df_gdp['delta_gdp'] / df_gdp['delta_year']).shift(-1)"
   ]
  },
  {
   "cell_type": "code",
   "execution_count": 25,
   "id": "a9272d1b",
   "metadata": {},
   "outputs": [],
   "source": [
    "df_gdp['next_year'] = df_gdp['Year'].shift(-1)\n",
    "del df_gdp['delta_gdp'], df_gdp['delta_year']"
   ]
  },
  {
   "cell_type": "code",
   "execution_count": 26,
   "id": "358a7471",
   "metadata": {},
   "outputs": [],
   "source": [
    "df_new_data = pd.DataFrame()\n",
    "\n",
    "for idx, row in df_gdp.iterrows():\n",
    "    if row['Year']== 2011:\n",
    "        continue\n",
    "\n",
    "    years_to_add = df_years_off[(df_years_off < row['next_year']) & (df_years_off > row['Year'])] #vai gerar uma linha com os anos faltando para cada linha existente no dataframe original\n",
    "\n",
    "    for new_year in years_to_add:\n",
    "        add_rows = row.copy() #copiando o valor para a variável para não alterar o valor original\n",
    "        add_rows['GDP_pp'] = (new_year - add_rows['Year']) * add_rows['average_gdp'] + add_rows['GDP_pp']\n",
    "        add_rows['Year'] = new_year\n",
    "        add_rows['Kind'] = 'estimated'\n",
    "        df_new_data = pd.concat([df_new_data, add_rows.to_frame().transpose()])"
   ]
  },
  {
   "cell_type": "code",
   "execution_count": 1,
   "id": "f1b54db4",
   "metadata": {},
   "outputs": [],
   "source": [
    "#add map comparing datas from Brazil to worldwide using matplot"
   ]
  },
  {
   "cell_type": "markdown",
   "id": "revised-helicopter",
   "metadata": {},
   "source": [
    "### CHALLENGES\n",
    "- Could you create a map of GDp or obesity in the world over the years?"
   ]
  },
  {
   "cell_type": "code",
   "execution_count": null,
   "id": "advised-sample",
   "metadata": {},
   "outputs": [],
   "source": []
  },
  {
   "cell_type": "markdown",
   "id": "lesbian-flight",
   "metadata": {},
   "source": [
    "- Is there a relationship between obesity levels and GDP per capita?\n"
   ]
  },
  {
   "cell_type": "code",
   "execution_count": null,
   "id": "fluid-enemy",
   "metadata": {},
   "outputs": [],
   "source": []
  }
 ],
 "metadata": {
  "kernelspec": {
   "display_name": "Python 3",
   "language": "python",
   "name": "python3"
  },
  "language_info": {
   "codemirror_mode": {
    "name": "ipython",
    "version": 3
   },
   "file_extension": ".py",
   "mimetype": "text/x-python",
   "name": "python",
   "nbconvert_exporter": "python",
   "pygments_lexer": "ipython3",
   "version": "3.13.0"
  }
 },
 "nbformat": 4,
 "nbformat_minor": 5
}
